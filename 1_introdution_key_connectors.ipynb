{
 "cells": [
  {
   "attachments": {},
   "cell_type": "markdown",
   "metadata": {},
   "source": [
    "# Chapter 1: Introduction"
   ]
  },
  {
   "attachments": {},
   "cell_type": "markdown",
   "metadata": {},
   "source": [
    "## Finding Key Connectors\n",
    "List of people and their friendships (page 3)"
   ]
  },
  {
   "cell_type": "code",
   "execution_count": 1,
   "metadata": {},
   "outputs": [],
   "source": [
    "# data\n",
    "\n",
    "users = [\n",
    "    {\"id\": 0, \"name\": \"Hero\"},\n",
    "    {\"id\": 1, \"name\": \"Dunn\"},\n",
    "    {\"id\": 2, \"name\": \"Sue\"},\n",
    "    {\"id\": 3, \"name\": \"Chi\"},\n",
    "    {\"id\": 4, \"name\": \"Thor\"},\n",
    "    {\"id\": 5, \"name\": \"Clive\"},\n",
    "    {\"id\": 6, \"name\": \"Hicks\"},\n",
    "    {\"id\": 7, \"name\": \"Devin\"},\n",
    "    {\"id\": 8, \"name\": \"Kate\"},\n",
    "    {\"id\": 9, \"name\": \"Klein\"},\n",
    "]\n",
    "\n",
    "friendship_pairs = [(0, 1), (0, 2), (1, 2), (1, 3),\n",
    "                    (2, 3), (3, 4), (4, 5), (5, 6), (5, 7), (6, 8), (7, 8), (8, 9)]\n",
    "\n",
    "# Looking up the friend of user 1, we have to look through the friendship_pairs to identify all pairs containing user 1.\n",
    "# This is not the easiest way of doing it.\n",
    "# Lets create a dict to make this easier. We still have to go over all the friendships_pairs once, but then we get cheap access."
   ]
  },
  {
   "cell_type": "code",
   "execution_count": 7,
   "metadata": {},
   "outputs": [
    {
     "data": {
      "text/plain": [
       "{0: [1, 2],\n",
       " 1: [0, 2, 3],\n",
       " 2: [0, 1, 3],\n",
       " 3: [1, 2, 4],\n",
       " 4: [3, 5],\n",
       " 5: [4, 6, 7],\n",
       " 6: [5, 8],\n",
       " 7: [5, 8],\n",
       " 8: [6, 7, 9],\n",
       " 9: [8]}"
      ]
     },
     "execution_count": 7,
     "metadata": {},
     "output_type": "execute_result"
    }
   ],
   "source": [
    "# initialize the dict with an empty list for each user id\n",
    "friendships = {user[\"id\"]: [] for user in users}\n",
    "friendships\n",
    "\n",
    "# loop over the friendship pairs to populate it\n",
    "for i, j in friendship_pairs:\n",
    "    friendships[i].append(j) # add j as friend of user i\n",
    "    friendships[j].append(i) # add i as friend of user j\n",
    "\n",
    "friendships"
   ]
  },
  {
   "cell_type": "code",
   "execution_count": 24,
   "metadata": {},
   "outputs": [
    {
     "data": {
      "text/plain": [
       "[(1, 3),\n",
       " (2, 3),\n",
       " (3, 3),\n",
       " (5, 3),\n",
       " (8, 3),\n",
       " (0, 2),\n",
       " (4, 2),\n",
       " (6, 2),\n",
       " (7, 2),\n",
       " (9, 1)]"
      ]
     },
     "execution_count": 24,
     "metadata": {},
     "output_type": "execute_result"
    }
   ],
   "source": [
    "# simple calculations\n",
    "\n",
    "# what is the average number of connections?\n",
    "# total number of connections\n",
    "def number_of_friends(user):\n",
    "    \"\"\"How many friends does _user_ have?\"\"\"\n",
    "    user_id = user[\"id\"]\n",
    "    friend_ids = friendships[user_id]\n",
    "    return len(friend_ids)\n",
    "\n",
    "total_connections = sum(number_of_friends(user) for user in users)\n",
    "\n",
    "# divide by number of users\n",
    "num_users = len(users)\n",
    "avg_connections = total_connections / num_users\n",
    "avg_connections\n",
    "\n",
    "\n",
    "# who are the most connected people?\n",
    "# create a list (user_id, number_of_friends)\n",
    "num_friends_by_id = [(user[\"id\"], number_of_friends(user)) for user in users]\n",
    "num_friends_by_id.sort(key=lambda id_and_friends: id_and_friends[1], reverse=True)\n",
    "num_friends_by_id\n"
   ]
  },
  {
   "attachments": {},
   "cell_type": "markdown",
   "metadata": {},
   "source": [
    "## Data Scientists You May Know\n",
    "Friends of friends (page 6)"
   ]
  },
  {
   "cell_type": "code",
   "execution_count": 36,
   "metadata": {},
   "outputs": [
    {
     "data": {
      "text/plain": [
       "Counter({0: 2, 5: 1})"
      ]
     },
     "execution_count": 36,
     "metadata": {},
     "output_type": "execute_result"
    }
   ],
   "source": [
    "# collect your friends friends\n",
    "def foaf_ids_bad(user):\n",
    "    \"\"\" foaf is short for \"friend of a friend\" \"\"\"\n",
    "    return [foaf_id \n",
    "            for friend_id in friendships[user[\"id\"]]\n",
    "            for foaf_id in friendships[friend_id]\n",
    "            #if foaf_id != user[\"id\"]                   # who aren't me\n",
    "            #and foaf_id not in friendships[user[\"id\"]]\n",
    "            ]\n",
    "\n",
    "foaf_ids_bad(users[0])\n",
    "\n",
    "# knowing that people are friends of friends in multiple ways (user 3) seems like interesting information.\n",
    "# lets produce a count of mutual friends and exclude people already known to the user\n",
    "from collections import Counter\n",
    "\n",
    "def friends_of_friends(user):\n",
    "    user_id = user[\"id\"]\n",
    "    return Counter(\n",
    "        foaf_id\n",
    "        for friend_id in friendships[user_id]   # for each of my friends\n",
    "        for foaf_id in friendships[friend_id]   # find their friends\n",
    "        if foaf_id != user_id                   # who aren't me\n",
    "        and foaf_id not in friendships[user_id] # and aren't my friends\n",
    "    )\n",
    "\n",
    "friends_of_friends(users[3])"
   ]
  },
  {
   "cell_type": "code",
   "execution_count": 41,
   "metadata": {},
   "outputs": [
    {
     "data": {
      "text/plain": [
       "Counter({1: 2, 9: 3, 5: 1, 8: 1})"
      ]
     },
     "execution_count": 41,
     "metadata": {},
     "output_type": "execute_result"
    }
   ],
   "source": [
    "# data on interests of users\n",
    "interests = {\n",
    "    (0, \"Hadoop\"), (0, \"Big Data\"), (0, \"HBase\"), (0, \"Java\"), (0, \"Spark\"), (0, \"Storm\"), (0, \"Cassandra\"), \n",
    "    (1, \"NoSQL\"), (1, \"MongoDB\"), (1, \"Cassandra\"), (1, \"HBase\"), (1, \"Postgres\"), \n",
    "    (2, \"Python\"), (2, \"scikit-learn\"), (2, \"scipy\"), (2, \"numpy\"), (2, \"statsmodels\"), (2, \"pandas\"), \n",
    "    (3, \"R\"), (3, \"Python\"), (3, \"statistics\"), (3, \"regression\"), (3, \"probability\"), \n",
    "    (4, \"machine learning\"), (4, \"regression\"), (4, \"decision trees\"), (4, \"libsvm\"), \n",
    "    (5, \"Python\"), (5, \"R\"), (5, \"Java\"), (5, \"C++\"), (5, \"Haskell\"), (5, \"programming languages\"), \n",
    "    (6, \"statistics\"), (6, \"probability\"), (6, \"mathematics\"), (6, \"theory\"), \n",
    "    (7, \"machine learning\"), (7, \"scikit-learn\"), (7, \"Mahout\"), (7, \"neural networks\"), \n",
    "    (8, \"neural networks\"), (8, \"deep learning\"), (8, \"Big Data\"), (8, \"artificial intelligence\"), \n",
    "    (9, \"Hadoop\"), (9, \"Java\"), (9, \"MapReduce\"), (9, \"Big Data\") \n",
    "}\n",
    "\n",
    "# user with certain interests\n",
    "def data_scientists_who_like(target_interest):\n",
    "    \"\"\"Find the ids of all useres who like the target interest\"\"\"\n",
    "    return [user_id\n",
    "            for user_id, user_interst in interests\n",
    "            if user_interst == target_interest]\n",
    "\n",
    "data_scientists_who_like(\"Java\")\n",
    "\n",
    "# in above example we have to examine the whole list of interest for every search\n",
    "# we are proably better off building an index from interests to users\n",
    "from collections import defaultdict\n",
    "\n",
    "# keys are interests, values are lists of user_ids with that interest\n",
    "user_ids_by_interest = defaultdict(list)\n",
    "\n",
    "for user_id, interest in interests:\n",
    "    user_ids_by_interest[interest].append(user_id)\n",
    "\n",
    "# Keys are user_ids, values are lists of interests for that user_id\n",
    "interests_by_user_id = defaultdict(list)\n",
    "\n",
    "for user_id, interest in interests:\n",
    "    interests_by_user_id[user_id].append(interest)\n",
    "\n",
    "# who has the most interests in common wih a given user?\n",
    "# iterate over the user's interest\n",
    "# for each interest, iterate over the other users with that interest\n",
    "# keep count of how many times we see each other user\n",
    "\n",
    "def most_common_interest_with(user):\n",
    "    return Counter(\n",
    "        interested_user_id\n",
    "        for interest in interests_by_user_id[user[\"id\"]]\n",
    "        for interested_user_id in user_ids_by_interest[interest]\n",
    "        if interested_user_id != user[\"id\"]\n",
    "    )\n",
    "\n",
    "most_common_interest_with(users[0])"
   ]
  },
  {
   "attachments": {},
   "cell_type": "markdown",
   "metadata": {},
   "source": [
    "## Salaries and Experience\n",
    "Salaries and tenure (page 8)"
   ]
  },
  {
   "cell_type": "code",
   "execution_count": 46,
   "metadata": {},
   "outputs": [],
   "source": [
    "# data\n",
    "salaries_and_tenures = [(83000, 8.7), (88000, 8.1),\n",
    "                        (48000, 0.7), (76000, 6),\n",
    "                        (69000, 6.5), (76000, 7.5),\n",
    "                        (60000, 2.5), (83000, 10),\n",
    "                        (48000, 1.9), (63000, 4.2)]"
   ]
  },
  {
   "cell_type": "code",
   "execution_count": null,
   "metadata": {},
   "outputs": [],
   "source": [
    "# plot the data\n"
   ]
  }
 ],
 "metadata": {
  "kernelspec": {
   "display_name": "Python 3",
   "language": "python",
   "name": "python3"
  },
  "language_info": {
   "codemirror_mode": {
    "name": "ipython",
    "version": 3
   },
   "file_extension": ".py",
   "mimetype": "text/x-python",
   "name": "python",
   "nbconvert_exporter": "python",
   "pygments_lexer": "ipython3",
   "version": "3.9.4"
  },
  "orig_nbformat": 4,
  "vscode": {
   "interpreter": {
    "hash": "aee8b7b246df8f9039afb4144a1f6fd8d2ca17a180786b69acc140d282b71a49"
   }
  }
 },
 "nbformat": 4,
 "nbformat_minor": 2
}
